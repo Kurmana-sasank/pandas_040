{
  "nbformat": 4,
  "nbformat_minor": 0,
  "metadata": {
    "colab": {
      "provenance": []
    },
    "kernelspec": {
      "name": "python3",
      "display_name": "Python 3"
    },
    "language_info": {
      "name": "python"
    }
  },
  "cells": [
    {
      "cell_type": "markdown",
      "source": [
        "1.Getting familiar with pandas."
      ],
      "metadata": {
        "id": "M-W7V2NpP6mC"
      }
    },
    {
      "cell_type": "code",
      "execution_count": 1,
      "metadata": {
        "id": "_3Q5tT7V_8HV"
      },
      "outputs": [],
      "source": [
        "import pandas as pd"
      ]
    },
    {
      "cell_type": "code",
      "source": [
        "# Creating a Series from a list\n",
        "data = [1, 2, 3, 4, 5]\n",
        "series = pd.Series(data)\n",
        "print(\"Series from list:\\n\", series)\n"
      ],
      "metadata": {
        "id": "7fCSHEINATMy",
        "colab": {
          "base_uri": "https://localhost:8080/"
        },
        "outputId": "838b7e2b-ce62-4c25-88c7-6f6c4691ba43"
      },
      "execution_count": 2,
      "outputs": [
        {
          "output_type": "stream",
          "name": "stdout",
          "text": [
            "Series from list:\n",
            " 0    1\n",
            "1    2\n",
            "2    3\n",
            "3    4\n",
            "4    5\n",
            "dtype: int64\n"
          ]
        }
      ]
    },
    {
      "cell_type": "code",
      "source": [
        "# Creating a DataFrame from a dictionary\n",
        "data = {\n",
        "    'Name': ['sasank', 'sai', 'sasi', 'varank'],\n",
        "    'Age': [28, 24, 35, 32]\n",
        "}\n",
        "df = pd.DataFrame(data)\n",
        "print(\"\\nDataFrame from dictionary:\\n\", df)"
      ],
      "metadata": {
        "id": "NzXugOqyLegA",
        "colab": {
          "base_uri": "https://localhost:8080/"
        },
        "outputId": "0cddc734-7f83-4030-d257-5314f82caf14"
      },
      "execution_count": 3,
      "outputs": [
        {
          "output_type": "stream",
          "name": "stdout",
          "text": [
            "\n",
            "DataFrame from dictionary:\n",
            "      Name  Age\n",
            "0  sasank   28\n",
            "1     sai   24\n",
            "2    sasi   35\n",
            "3  varank   32\n"
          ]
        }
      ]
    },
    {
      "cell_type": "markdown",
      "source": [
        "Operations on Dataframes:"
      ],
      "metadata": {
        "id": "ycAObdW-Lr7Q"
      }
    },
    {
      "cell_type": "markdown",
      "source": [
        "Selecting data(single column and multiple column):"
      ],
      "metadata": {
        "id": "ad6I2LFbL7Uu"
      }
    },
    {
      "cell_type": "code",
      "source": [
        "ages = df['Age']\n",
        "print(\"\\nSelected column (Age):\\n\", ages)\n",
        "\n",
        "# Selecting multiple columns\n",
        "subset = df[['Name', 'Age']]\n",
        "print(\"\\nSubset of DataFrame:\\n\", subset)"
      ],
      "metadata": {
        "id": "bB7fhM_dLgtB",
        "colab": {
          "base_uri": "https://localhost:8080/"
        },
        "outputId": "623a0ba7-32f9-4637-c6a8-97ac3ca8f36f"
      },
      "execution_count": 4,
      "outputs": [
        {
          "output_type": "stream",
          "name": "stdout",
          "text": [
            "\n",
            "Selected column (Age):\n",
            " 0    28\n",
            "1    24\n",
            "2    35\n",
            "3    32\n",
            "Name: Age, dtype: int64\n",
            "\n",
            "Subset of DataFrame:\n",
            "      Name  Age\n",
            "0  sasank   28\n",
            "1     sai   24\n",
            "2    sasi   35\n",
            "3  varank   32\n"
          ]
        }
      ]
    },
    {
      "cell_type": "markdown",
      "source": [
        "Filtering data:"
      ],
      "metadata": {
        "id": "-ZfeF3dNL_jy"
      }
    },
    {
      "cell_type": "code",
      "source": [
        "filtered_df = df[df['Age'] > 40]\n",
        "print(\"\\nFiltered DataFrame (Age > 40):\\n\", filtered_df)"
      ],
      "metadata": {
        "id": "Y5UpesnLMBSB",
        "colab": {
          "base_uri": "https://localhost:8080/"
        },
        "outputId": "fb2399f7-c29d-4b25-a010-5d40c725dfa6"
      },
      "execution_count": 5,
      "outputs": [
        {
          "output_type": "stream",
          "name": "stdout",
          "text": [
            "\n",
            "Filtered DataFrame (Age > 40):\n",
            " Empty DataFrame\n",
            "Columns: [Name, Age]\n",
            "Index: []\n"
          ]
        }
      ]
    },
    {
      "cell_type": "markdown",
      "source": [
        "Modifying of data:"
      ],
      "metadata": {
        "id": "kWAxXFwEMKGu"
      }
    },
    {
      "cell_type": "code",
      "source": [
        "df.loc[0, 'Age'] = 35  # Update a single value\n",
        "print(\"\\nDataFrame after modifying age of the first entry:\\n\", df)"
      ],
      "metadata": {
        "id": "E05dhaGfMMAR",
        "colab": {
          "base_uri": "https://localhost:8080/"
        },
        "outputId": "4b4e8d58-2cc1-422e-88d3-9d40f306063b"
      },
      "execution_count": 6,
      "outputs": [
        {
          "output_type": "stream",
          "name": "stdout",
          "text": [
            "\n",
            "DataFrame after modifying age of the first entry:\n",
            "      Name  Age\n",
            "0  sasank   35\n",
            "1     sai   24\n",
            "2    sasi   35\n",
            "3  varank   32\n"
          ]
        }
      ]
    },
    {
      "cell_type": "markdown",
      "source": [
        "2. Data Handling with Pandas"
      ],
      "metadata": {
        "id": "pCHWs81XMPtA"
      }
    },
    {
      "cell_type": "markdown",
      "source": [
        "Handling missing data:"
      ],
      "metadata": {
        "id": "aXfFWEg0MkXP"
      }
    },
    {
      "cell_type": "code",
      "source": [
        "df_with_missing = pd.DataFrame({\n",
        "    'A': [1, 2, None, 4],\n",
        "    'B': [None, 2, 3, 4]\n",
        "})\n"
      ],
      "metadata": {
        "id": "4Ete5A3wMmYb"
      },
      "execution_count": 7,
      "outputs": []
    },
    {
      "cell_type": "markdown",
      "source": [
        "Checking missing data"
      ],
      "metadata": {
        "id": "SEASLeLsMs-1"
      }
    },
    {
      "cell_type": "code",
      "source": [
        "print(\"\\nDataFrame with missing values:\\n\", df_with_missing)\n",
        "print(\"\\nChecking for missing data:\\n\", df_with_missing.isnull())"
      ],
      "metadata": {
        "id": "AhWzlrsJMu68",
        "colab": {
          "base_uri": "https://localhost:8080/"
        },
        "outputId": "b7499757-7c9b-4d59-e9b9-dc0762a959b0"
      },
      "execution_count": 8,
      "outputs": [
        {
          "output_type": "stream",
          "name": "stdout",
          "text": [
            "\n",
            "DataFrame with missing values:\n",
            "      A    B\n",
            "0  1.0  NaN\n",
            "1  2.0  2.0\n",
            "2  NaN  3.0\n",
            "3  4.0  4.0\n",
            "\n",
            "Checking for missing data:\n",
            "        A      B\n",
            "0  False   True\n",
            "1  False  False\n",
            "2   True  False\n",
            "3  False  False\n"
          ]
        }
      ]
    },
    {
      "cell_type": "markdown",
      "source": [
        "Filling specific value"
      ],
      "metadata": {
        "id": "KetLXYmMMytZ"
      }
    },
    {
      "cell_type": "code",
      "source": [
        "df_filled = df_with_missing.fillna(0)\n",
        "print(\"\\nDataFrame after filling missing values with 0:\")\n",
        "print(df_filled)"
      ],
      "metadata": {
        "id": "zUiIwXqsM5Jk",
        "colab": {
          "base_uri": "https://localhost:8080/"
        },
        "outputId": "8dc1d055-d1bd-4927-8ce4-74198a82b5ea"
      },
      "execution_count": 16,
      "outputs": [
        {
          "output_type": "stream",
          "name": "stdout",
          "text": [
            "\n",
            "DataFrame after filling missing values with 0:\n",
            "     A    B\n",
            "0  1.0  0.0\n",
            "1  2.0  2.0\n",
            "2  0.0  3.0\n",
            "3  4.0  4.0\n"
          ]
        }
      ]
    },
    {
      "cell_type": "markdown",
      "source": [
        "Conversion of data types:"
      ],
      "metadata": {
        "id": "Rm8p0KqRNAaW"
      }
    },
    {
      "cell_type": "code",
      "source": [
        "df['Age'] = df['Age'].astype(float)\n",
        "print(\"\\nDataFrame with 'Age' converted to float:\")\n",
        "print(df)"
      ],
      "metadata": {
        "id": "EFaOaxjfNCpe",
        "colab": {
          "base_uri": "https://localhost:8080/"
        },
        "outputId": "f5565bce-ecf3-4ef2-ac94-bde042cbb106"
      },
      "execution_count": 10,
      "outputs": [
        {
          "output_type": "stream",
          "name": "stdout",
          "text": [
            "\n",
            "DataFrame with 'Age' converted to float:\n",
            "     Name   Age\n",
            "0  sasank  35.0\n",
            "1     sai  24.0\n",
            "2    sasi  35.0\n",
            "3  varank  32.0\n"
          ]
        }
      ]
    },
    {
      "cell_type": "markdown",
      "source": [
        "3. Data Analysis with Pandas"
      ],
      "metadata": {
        "id": "V9m-UlLNNGWZ"
      }
    },
    {
      "cell_type": "code",
      "source": [
        "print(\"\\nSummary statistics of the DataFrame:\")\n",
        "print(df.describe())"
      ],
      "metadata": {
        "id": "zsh_8IFwNhxB",
        "colab": {
          "base_uri": "https://localhost:8080/"
        },
        "outputId": "5f00253e-0e97-41a4-9b2c-e60bd8de1311"
      },
      "execution_count": 12,
      "outputs": [
        {
          "output_type": "stream",
          "name": "stdout",
          "text": [
            "\n",
            "Summary statistics of the DataFrame:\n",
            "             Age\n",
            "count   4.000000\n",
            "mean   31.500000\n",
            "std     5.196152\n",
            "min    24.000000\n",
            "25%    30.000000\n",
            "50%    33.500000\n",
            "75%    35.000000\n",
            "max    35.000000\n"
          ]
        }
      ]
    },
    {
      "cell_type": "markdown",
      "source": [
        "Grouping Data and Applying Aggregate Functions:"
      ],
      "metadata": {
        "id": "16KbeaPKNmg6"
      }
    },
    {
      "cell_type": "code",
      "source": [
        "grouped_df = df.groupby('Age').agg({'Age': 'mean'})\n",
        "print(\"\\nGrouped data by City with mean Age:\")\n",
        "print(grouped_df)"
      ],
      "metadata": {
        "id": "fJWOODpBNnAn",
        "colab": {
          "base_uri": "https://localhost:8080/"
        },
        "outputId": "8fdf3143-b79e-4d16-e3da-3a46e50818b2"
      },
      "execution_count": 17,
      "outputs": [
        {
          "output_type": "stream",
          "name": "stdout",
          "text": [
            "\n",
            "Grouped data by City with mean Age:\n",
            "       Age\n",
            "Age       \n",
            "24.0  24.0\n",
            "32.0  32.0\n",
            "35.0  35.0\n"
          ]
        }
      ]
    },
    {
      "cell_type": "markdown",
      "source": [
        "Merging two dataframes"
      ],
      "metadata": {
        "id": "yAnB2oeqNqSw"
      }
    },
    {
      "cell_type": "code",
      "source": [
        "df1 = pd.DataFrame({'Key': ['A', 'B', 'C'], 'Value': [1, 2, 3]})\n",
        "df2 = pd.DataFrame({'Key': ['A', 'B', 'D'], 'Value': [4, 5, 6]})\n",
        "merged_df = pd.merge(df1, df2, on='Key', how='outer')\n",
        "print(\"\\nMerged DataFrame:\\n\", merged_df)"
      ],
      "metadata": {
        "id": "qioLlGhkNt3L",
        "colab": {
          "base_uri": "https://localhost:8080/"
        },
        "outputId": "570b7c6d-3a2d-41ba-d0c7-43935c4c9aea"
      },
      "execution_count": 14,
      "outputs": [
        {
          "output_type": "stream",
          "name": "stdout",
          "text": [
            "\n",
            "Merged DataFrame:\n",
            "   Key  Value_x  Value_y\n",
            "0   A      1.0      4.0\n",
            "1   B      2.0      5.0\n",
            "2   C      3.0      NaN\n",
            "3   D      NaN      6.0\n"
          ]
        }
      ]
    },
    {
      "cell_type": "markdown",
      "source": [
        "Concatenation"
      ],
      "metadata": {
        "id": "M-tD2QO6NwSz"
      }
    },
    {
      "cell_type": "code",
      "source": [
        "concatenated_df = pd.concat([df1, df2], ignore_index=True)\n",
        "print(\"\\nConcatenated DataFrame:\\n\", concatenated_df)"
      ],
      "metadata": {
        "id": "kuk2sopfNyyH",
        "colab": {
          "base_uri": "https://localhost:8080/"
        },
        "outputId": "318e5478-4c82-48b2-d60d-097e4bac8e1c"
      },
      "execution_count": 15,
      "outputs": [
        {
          "output_type": "stream",
          "name": "stdout",
          "text": [
            "\n",
            "Concatenated DataFrame:\n",
            "   Key  Value\n",
            "0   A      1\n",
            "1   B      2\n",
            "2   C      3\n",
            "3   A      4\n",
            "4   B      5\n",
            "5   D      6\n"
          ]
        }
      ]
    },
    {
      "cell_type": "markdown",
      "source": [],
      "metadata": {
        "id": "mTgXnDCMN02y"
      }
    },
    {
      "cell_type": "markdown",
      "source": [
        "4.Application in Data Science"
      ],
      "metadata": {
        "id": "CisWgBUPN7qF"
      }
    },
    {
      "cell_type": "markdown",
      "source": [
        "Advantages of Using Pandas:\n",
        "\n",
        "Efficiency and Performance: Pandas is built on top of NumPy and provides highly optimized performance for data manipulation and analysis.\n",
        "\n",
        "Ease of Use: Pandas offers intuitive functions and methods for data manipulation, making complex data handling tasks simpler.\n",
        "\n",
        "Integration with Other Libraries: Pandas integrates seamlessly with other Python libraries like Matplotlib and Seaborn for visualization, and Scikit-learn for machine learning, enhancing its utility in data science workflows.\n",
        "\n",
        "Handling Large Datasets: It provides functions to handle large datasets efficiently by allowing filtering, merging, and aggregating data quickly."
      ],
      "metadata": {
        "id": "KE9umn7LN9US"
      }
    },
    {
      "cell_type": "markdown",
      "source": [
        "Data Cleaning: Data scientists often use Pandas to clean datasets by handling missing values, removing duplicates, and converting data types. For example, filling missing values with fillna() or dropping them with dropna().\n",
        "\n",
        "Exploratory Data Analysis (EDA): Pandas is used to summarize data, visualize trends, and explore relationships between variables. Functions like describe(), groupby(), and plot() are commonly used for EDA.\n",
        "\n",
        "Time Series Analysis: In finance and economics, Pandas is used for time series data analysis, allowing data scientists to resample, shift, and manipulate time series data effectively."
      ],
      "metadata": {
        "id": "on_sZRglOAY8"
      }
    },
    {
      "cell_type": "markdown",
      "source": [
        "Conclusion"
      ],
      "metadata": {
        "id": "4eL1rwFnOYts"
      }
    },
    {
      "cell_type": "markdown",
      "source": [
        "By mastering the examples above, you’ll gain a comprehensive understanding of how Pandas can be used for data handling and analysis in data science. Pandas is a powerful tool that simplifies data preparation and analysis tasks, making it indispensable for data science professionals working with real-world data"
      ],
      "metadata": {
        "id": "DbtTXYw0OZzN"
      }
    }
  ]
}