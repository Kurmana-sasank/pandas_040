{
  "nbformat": 4,
  "nbformat_minor": 0,
  "metadata": {
    "colab": {
      "provenance": []
    },
    "kernelspec": {
      "name": "python3",
      "display_name": "Python 3"
    },
    "language_info": {
      "name": "python"
    }
  },
  "cells": [
    {
      "cell_type": "markdown",
      "source": [
        "1.Getting familiar with pandas."
      ],
      "metadata": {
        "id": "M-W7V2NpP6mC"
      }
    },
    {
      "cell_type": "code",
      "execution_count": 2,
      "metadata": {
        "id": "_3Q5tT7V_8HV"
      },
      "outputs": [],
      "source": [
        "import pandas as pd"
      ]
    },
    {
      "cell_type": "code",
      "source": [
        "# Creating a Series from a list\n",
        "data = [1, 2, 3, 4, 5]\n",
        "series = pd.Series(data)\n",
        "print(\"Series from list:\\n\", series)\n"
      ],
      "metadata": {
        "id": "7fCSHEINATMy"
      },
      "execution_count": null,
      "outputs": []
    },
    {
      "cell_type": "code",
      "source": [
        "# Creating a DataFrame from a dictionary\n",
        "data = {\n",
        "    'Name': ['sasank', 'sai', 'sasi', 'varank'],\n",
        "    'Age': [28, 24, 35, 32]\n",
        "}\n",
        "df = pd.DataFrame(data)\n",
        "print(\"\\nDataFrame from dictionary:\\n\", df)"
      ],
      "metadata": {
        "id": "NzXugOqyLegA"
      },
      "execution_count": null,
      "outputs": []
    },
    {
      "cell_type": "markdown",
      "source": [
        "Operations on Dataframes:"
      ],
      "metadata": {
        "id": "ycAObdW-Lr7Q"
      }
    },
    {
      "cell_type": "markdown",
      "source": [
        "Selecting data(single column and multiple column):"
      ],
      "metadata": {
        "id": "ad6I2LFbL7Uu"
      }
    },
    {
      "cell_type": "code",
      "source": [
        "ages = df['Age']\n",
        "print(\"\\nSelected column (Age):\\n\", ages)\n",
        "\n",
        "# Selecting multiple columns\n",
        "subset = df[['Name', 'Age']]\n",
        "print(\"\\nSubset of DataFrame:\\n\", subset)"
      ],
      "metadata": {
        "id": "bB7fhM_dLgtB"
      },
      "execution_count": null,
      "outputs": []
    },
    {
      "cell_type": "markdown",
      "source": [
        "Filtering data:"
      ],
      "metadata": {
        "id": "-ZfeF3dNL_jy"
      }
    },
    {
      "cell_type": "code",
      "source": [
        "filtered_df = df[df['Age'] > 40]\n",
        "print(\"\\nFiltered DataFrame (Age > 40):\\n\", filtered_df)"
      ],
      "metadata": {
        "id": "Y5UpesnLMBSB"
      },
      "execution_count": null,
      "outputs": []
    },
    {
      "cell_type": "markdown",
      "source": [
        "Modifying of data:"
      ],
      "metadata": {
        "id": "kWAxXFwEMKGu"
      }
    },
    {
      "cell_type": "code",
      "source": [
        "df.loc[0, 'Age'] = 35  # Update a single value\n",
        "print(\"\\nDataFrame after modifying age of the first entry:\\n\", df)"
      ],
      "metadata": {
        "id": "E05dhaGfMMAR"
      },
      "execution_count": null,
      "outputs": []
    },
    {
      "cell_type": "markdown",
      "source": [
        "2. Data Handling with Pandas"
      ],
      "metadata": {
        "id": "pCHWs81XMPtA"
      }
    },
    {
      "cell_type": "markdown",
      "source": [
        "Handling missing data:"
      ],
      "metadata": {
        "id": "aXfFWEg0MkXP"
      }
    },
    {
      "cell_type": "code",
      "source": [
        "df_with_missing = pd.DataFrame({\n",
        "    'A': [1, 2, None, 4],\n",
        "    'B': [None, 2, 3, 4]\n",
        "})\n"
      ],
      "metadata": {
        "id": "4Ete5A3wMmYb"
      },
      "execution_count": null,
      "outputs": []
    },
    {
      "cell_type": "markdown",
      "source": [
        "Checking missing data"
      ],
      "metadata": {
        "id": "SEASLeLsMs-1"
      }
    },
    {
      "cell_type": "code",
      "source": [
        "print(\"\\nDataFrame with missing values:\\n\", df_with_missing)\n",
        "print(\"\\nChecking for missing data:\\n\", df_with_missing.isnull())"
      ],
      "metadata": {
        "id": "AhWzlrsJMu68"
      },
      "execution_count": null,
      "outputs": []
    },
    {
      "cell_type": "markdown",
      "source": [
        "Filling specific value"
      ],
      "metadata": {
        "id": "KetLXYmMMytZ"
      }
    },
    {
      "cell_type": "code",
      "source": [
        "df_filled = df_missing.fillna(0)\n",
        "print(\"\\nDataFrame after filling missing values with 0:\")\n",
        "print(df_filled)"
      ],
      "metadata": {
        "id": "zUiIwXqsM5Jk"
      },
      "execution_count": null,
      "outputs": []
    },
    {
      "cell_type": "markdown",
      "source": [
        "Conversion of data types:"
      ],
      "metadata": {
        "id": "Rm8p0KqRNAaW"
      }
    },
    {
      "cell_type": "code",
      "source": [
        "df['Age'] = df['Age'].astype(float)\n",
        "print(\"\\nDataFrame with 'Age' converted to float:\")\n",
        "print(df)"
      ],
      "metadata": {
        "id": "EFaOaxjfNCpe"
      },
      "execution_count": null,
      "outputs": []
    },
    {
      "cell_type": "markdown",
      "source": [
        "3. Data Analysis with Pandas"
      ],
      "metadata": {
        "id": "V9m-UlLNNGWZ"
      }
    },
    {
      "cell_type": "code",
      "source": [
        "print(\"\\nSummary statistics of the DataFrame:\")\n",
        "print(df.describe())"
      ],
      "metadata": {
        "id": "zsh_8IFwNhxB"
      },
      "execution_count": null,
      "outputs": []
    },
    {
      "cell_type": "markdown",
      "source": [
        "Grouping Data and Applying Aggregate Functions:"
      ],
      "metadata": {
        "id": "16KbeaPKNmg6"
      }
    },
    {
      "cell_type": "code",
      "source": [
        "grouped_df = df.groupby('City').agg({'Age': 'mean'})\n",
        "print(\"\\nGrouped data by City with mean Age:\")\n",
        "print(grouped_df)"
      ],
      "metadata": {
        "id": "fJWOODpBNnAn"
      },
      "execution_count": null,
      "outputs": []
    },
    {
      "cell_type": "markdown",
      "source": [
        "Merging two dataframes"
      ],
      "metadata": {
        "id": "yAnB2oeqNqSw"
      }
    },
    {
      "cell_type": "code",
      "source": [
        "df1 = pd.DataFrame({'Key': ['A', 'B', 'C'], 'Value': [1, 2, 3]})\n",
        "df2 = pd.DataFrame({'Key': ['A', 'B', 'D'], 'Value': [4, 5, 6]})\n",
        "merged_df = pd.merge(df1, df2, on='Key', how='outer')\n",
        "print(\"\\nMerged DataFrame:\\n\", merged_df)"
      ],
      "metadata": {
        "id": "qioLlGhkNt3L"
      },
      "execution_count": null,
      "outputs": []
    },
    {
      "cell_type": "markdown",
      "source": [
        "Concatenation"
      ],
      "metadata": {
        "id": "M-tD2QO6NwSz"
      }
    },
    {
      "cell_type": "code",
      "source": [
        "concatenated_df = pd.concat([df1, df2], ignore_index=True)\n",
        "print(\"\\nConcatenated DataFrame:\\n\", concatenated_df)"
      ],
      "metadata": {
        "id": "kuk2sopfNyyH"
      },
      "execution_count": null,
      "outputs": []
    },
    {
      "cell_type": "markdown",
      "source": [],
      "metadata": {
        "id": "mTgXnDCMN02y"
      }
    },
    {
      "cell_type": "markdown",
      "source": [
        "4.Application in Data Science"
      ],
      "metadata": {
        "id": "CisWgBUPN7qF"
      }
    },
    {
      "cell_type": "markdown",
      "source": [
        "Advantages of Using Pandas:\n",
        "\n",
        "Efficiency and Performance: Pandas is built on top of NumPy and provides highly optimized performance for data manipulation and analysis.\n",
        "\n",
        "Ease of Use: Pandas offers intuitive functions and methods for data manipulation, making complex data handling tasks simpler.\n",
        "\n",
        "Integration with Other Libraries: Pandas integrates seamlessly with other Python libraries like Matplotlib and Seaborn for visualization, and Scikit-learn for machine learning, enhancing its utility in data science workflows.\n",
        "\n",
        "Handling Large Datasets: It provides functions to handle large datasets efficiently by allowing filtering, merging, and aggregating data quickly."
      ],
      "metadata": {
        "id": "KE9umn7LN9US"
      }
    },
    {
      "cell_type": "markdown",
      "source": [
        "Data Cleaning: Data scientists often use Pandas to clean datasets by handling missing values, removing duplicates, and converting data types. For example, filling missing values with fillna() or dropping them with dropna().\n",
        "\n",
        "Exploratory Data Analysis (EDA): Pandas is used to summarize data, visualize trends, and explore relationships between variables. Functions like describe(), groupby(), and plot() are commonly used for EDA.\n",
        "\n",
        "Time Series Analysis: In finance and economics, Pandas is used for time series data analysis, allowing data scientists to resample, shift, and manipulate time series data effectively."
      ],
      "metadata": {
        "id": "on_sZRglOAY8"
      }
    },
    {
      "cell_type": "markdown",
      "source": [
        "Conclusion"
      ],
      "metadata": {
        "id": "4eL1rwFnOYts"
      }
    },
    {
      "cell_type": "markdown",
      "source": [
        "By mastering the examples above, you’ll gain a comprehensive understanding of how Pandas can be used for data handling and analysis in data science. Pandas is a powerful tool that simplifies data preparation and analysis tasks, making it indispensable for data science professionals working with real-world data"
      ],
      "metadata": {
        "id": "DbtTXYw0OZzN"
      }
    }
  ]
}